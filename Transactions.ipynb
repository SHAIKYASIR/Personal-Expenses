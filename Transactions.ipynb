{
  "nbformat": 4,
  "nbformat_minor": 0,
  "metadata": {
    "colab": {
      "provenance": [],
      "mount_file_id": "1wyh8dWeGS8d0vVQHIbCNeX3aDqVPmjdF",
      "authorship_tag": "ABX9TyO0T0vNxeYySmn1ZXkHrKqk",
      "include_colab_link": true
    },
    "kernelspec": {
      "name": "python3",
      "display_name": "Python 3"
    },
    "language_info": {
      "name": "python"
    }
  },
  "cells": [
    {
      "cell_type": "markdown",
      "metadata": {
        "id": "view-in-github",
        "colab_type": "text"
      },
      "source": [
        "<a href=\"https://colab.research.google.com/github/SHAIKYASIR/Personal-Expenses/blob/main/Transactions.ipynb\" target=\"_parent\"><img src=\"https://colab.research.google.com/assets/colab-badge.svg\" alt=\"Open In Colab\"/></a>"
      ]
    },
    {
      "cell_type": "code",
      "execution_count": 2,
      "metadata": {
        "colab": {
          "base_uri": "https://localhost:8080/",
          "height": 206
        },
        "id": "UagT2TEIt-8H",
        "outputId": "8aea5218-cf6e-45f2-f38c-6476ab185eeb"
      },
      "outputs": [
        {
          "output_type": "execute_result",
          "data": {
            "text/plain": [
              "    Txn Date Value Date                                        Description  \\\n",
              "0  01-Jul-24  01-Jul-24     TO TRANSFER-UPI/DR/454931218351/RAM LAL/YES...   \n",
              "1  01-Jul-24  01-Jul-24     TO TRANSFER-UPI/DR/454933511387/Mr  PATH/FD...   \n",
              "2  01-Jul-24  01-Jul-24     TO TRANSFER-UPI/DR/454933553209/Mr  PATH/FD...   \n",
              "3  01-Jul-24  01-Jul-24     TO TRANSFER-UPI/DR/454944574748/EJJIROTH/YE...   \n",
              "4  01-Jul-24  01-Jul-24     TO TRANSFER-UPI/DR/454945418253/DAYARAM S/Y...   \n",
              "\n",
              "          Ref No./Cheque No.         Debit Credit    Balance  \n",
              "0  TRANSFER TO 4897690162095            20         12,378.72  \n",
              "1  TRANSFER TO 4897690162095           100         12,278.72  \n",
              "2  TRANSFER TO 4897690162095            20         12,258.72  \n",
              "3  TRANSFER TO 4897690162095            30         12,228.72  \n",
              "4  TRANSFER TO 4897690162095           120         12,108.72  "
            ],
            "text/html": [
              "\n",
              "  <div id=\"df-b5855b62-476f-467a-913d-5855cf123679\" class=\"colab-df-container\">\n",
              "    <div>\n",
              "<style scoped>\n",
              "    .dataframe tbody tr th:only-of-type {\n",
              "        vertical-align: middle;\n",
              "    }\n",
              "\n",
              "    .dataframe tbody tr th {\n",
              "        vertical-align: top;\n",
              "    }\n",
              "\n",
              "    .dataframe thead th {\n",
              "        text-align: right;\n",
              "    }\n",
              "</style>\n",
              "<table border=\"1\" class=\"dataframe\">\n",
              "  <thead>\n",
              "    <tr style=\"text-align: right;\">\n",
              "      <th></th>\n",
              "      <th>Txn Date</th>\n",
              "      <th>Value Date</th>\n",
              "      <th>Description</th>\n",
              "      <th>Ref No./Cheque No.</th>\n",
              "      <th>Debit</th>\n",
              "      <th>Credit</th>\n",
              "      <th>Balance</th>\n",
              "    </tr>\n",
              "  </thead>\n",
              "  <tbody>\n",
              "    <tr>\n",
              "      <th>0</th>\n",
              "      <td>01-Jul-24</td>\n",
              "      <td>01-Jul-24</td>\n",
              "      <td>TO TRANSFER-UPI/DR/454931218351/RAM LAL/YES...</td>\n",
              "      <td>TRANSFER TO 4897690162095</td>\n",
              "      <td>20</td>\n",
              "      <td></td>\n",
              "      <td>12,378.72</td>\n",
              "    </tr>\n",
              "    <tr>\n",
              "      <th>1</th>\n",
              "      <td>01-Jul-24</td>\n",
              "      <td>01-Jul-24</td>\n",
              "      <td>TO TRANSFER-UPI/DR/454933511387/Mr  PATH/FD...</td>\n",
              "      <td>TRANSFER TO 4897690162095</td>\n",
              "      <td>100</td>\n",
              "      <td></td>\n",
              "      <td>12,278.72</td>\n",
              "    </tr>\n",
              "    <tr>\n",
              "      <th>2</th>\n",
              "      <td>01-Jul-24</td>\n",
              "      <td>01-Jul-24</td>\n",
              "      <td>TO TRANSFER-UPI/DR/454933553209/Mr  PATH/FD...</td>\n",
              "      <td>TRANSFER TO 4897690162095</td>\n",
              "      <td>20</td>\n",
              "      <td></td>\n",
              "      <td>12,258.72</td>\n",
              "    </tr>\n",
              "    <tr>\n",
              "      <th>3</th>\n",
              "      <td>01-Jul-24</td>\n",
              "      <td>01-Jul-24</td>\n",
              "      <td>TO TRANSFER-UPI/DR/454944574748/EJJIROTH/YE...</td>\n",
              "      <td>TRANSFER TO 4897690162095</td>\n",
              "      <td>30</td>\n",
              "      <td></td>\n",
              "      <td>12,228.72</td>\n",
              "    </tr>\n",
              "    <tr>\n",
              "      <th>4</th>\n",
              "      <td>01-Jul-24</td>\n",
              "      <td>01-Jul-24</td>\n",
              "      <td>TO TRANSFER-UPI/DR/454945418253/DAYARAM S/Y...</td>\n",
              "      <td>TRANSFER TO 4897690162095</td>\n",
              "      <td>120</td>\n",
              "      <td></td>\n",
              "      <td>12,108.72</td>\n",
              "    </tr>\n",
              "  </tbody>\n",
              "</table>\n",
              "</div>\n",
              "    <div class=\"colab-df-buttons\">\n",
              "\n",
              "  <div class=\"colab-df-container\">\n",
              "    <button class=\"colab-df-convert\" onclick=\"convertToInteractive('df-b5855b62-476f-467a-913d-5855cf123679')\"\n",
              "            title=\"Convert this dataframe to an interactive table.\"\n",
              "            style=\"display:none;\">\n",
              "\n",
              "  <svg xmlns=\"http://www.w3.org/2000/svg\" height=\"24px\" viewBox=\"0 -960 960 960\">\n",
              "    <path d=\"M120-120v-720h720v720H120Zm60-500h600v-160H180v160Zm220 220h160v-160H400v160Zm0 220h160v-160H400v160ZM180-400h160v-160H180v160Zm440 0h160v-160H620v160ZM180-180h160v-160H180v160Zm440 0h160v-160H620v160Z\"/>\n",
              "  </svg>\n",
              "    </button>\n",
              "\n",
              "  <style>\n",
              "    .colab-df-container {\n",
              "      display:flex;\n",
              "      gap: 12px;\n",
              "    }\n",
              "\n",
              "    .colab-df-convert {\n",
              "      background-color: #E8F0FE;\n",
              "      border: none;\n",
              "      border-radius: 50%;\n",
              "      cursor: pointer;\n",
              "      display: none;\n",
              "      fill: #1967D2;\n",
              "      height: 32px;\n",
              "      padding: 0 0 0 0;\n",
              "      width: 32px;\n",
              "    }\n",
              "\n",
              "    .colab-df-convert:hover {\n",
              "      background-color: #E2EBFA;\n",
              "      box-shadow: 0px 1px 2px rgba(60, 64, 67, 0.3), 0px 1px 3px 1px rgba(60, 64, 67, 0.15);\n",
              "      fill: #174EA6;\n",
              "    }\n",
              "\n",
              "    .colab-df-buttons div {\n",
              "      margin-bottom: 4px;\n",
              "    }\n",
              "\n",
              "    [theme=dark] .colab-df-convert {\n",
              "      background-color: #3B4455;\n",
              "      fill: #D2E3FC;\n",
              "    }\n",
              "\n",
              "    [theme=dark] .colab-df-convert:hover {\n",
              "      background-color: #434B5C;\n",
              "      box-shadow: 0px 1px 3px 1px rgba(0, 0, 0, 0.15);\n",
              "      filter: drop-shadow(0px 1px 2px rgba(0, 0, 0, 0.3));\n",
              "      fill: #FFFFFF;\n",
              "    }\n",
              "  </style>\n",
              "\n",
              "    <script>\n",
              "      const buttonEl =\n",
              "        document.querySelector('#df-b5855b62-476f-467a-913d-5855cf123679 button.colab-df-convert');\n",
              "      buttonEl.style.display =\n",
              "        google.colab.kernel.accessAllowed ? 'block' : 'none';\n",
              "\n",
              "      async function convertToInteractive(key) {\n",
              "        const element = document.querySelector('#df-b5855b62-476f-467a-913d-5855cf123679');\n",
              "        const dataTable =\n",
              "          await google.colab.kernel.invokeFunction('convertToInteractive',\n",
              "                                                    [key], {});\n",
              "        if (!dataTable) return;\n",
              "\n",
              "        const docLinkHtml = 'Like what you see? Visit the ' +\n",
              "          '<a target=\"_blank\" href=https://colab.research.google.com/notebooks/data_table.ipynb>data table notebook</a>'\n",
              "          + ' to learn more about interactive tables.';\n",
              "        element.innerHTML = '';\n",
              "        dataTable['output_type'] = 'display_data';\n",
              "        await google.colab.output.renderOutput(dataTable, element);\n",
              "        const docLink = document.createElement('div');\n",
              "        docLink.innerHTML = docLinkHtml;\n",
              "        element.appendChild(docLink);\n",
              "      }\n",
              "    </script>\n",
              "  </div>\n",
              "\n",
              "\n",
              "<div id=\"df-e9694db0-5269-492e-af4b-63d1250b09b6\">\n",
              "  <button class=\"colab-df-quickchart\" onclick=\"quickchart('df-e9694db0-5269-492e-af4b-63d1250b09b6')\"\n",
              "            title=\"Suggest charts\"\n",
              "            style=\"display:none;\">\n",
              "\n",
              "<svg xmlns=\"http://www.w3.org/2000/svg\" height=\"24px\"viewBox=\"0 0 24 24\"\n",
              "     width=\"24px\">\n",
              "    <g>\n",
              "        <path d=\"M19 3H5c-1.1 0-2 .9-2 2v14c0 1.1.9 2 2 2h14c1.1 0 2-.9 2-2V5c0-1.1-.9-2-2-2zM9 17H7v-7h2v7zm4 0h-2V7h2v10zm4 0h-2v-4h2v4z\"/>\n",
              "    </g>\n",
              "</svg>\n",
              "  </button>\n",
              "\n",
              "<style>\n",
              "  .colab-df-quickchart {\n",
              "      --bg-color: #E8F0FE;\n",
              "      --fill-color: #1967D2;\n",
              "      --hover-bg-color: #E2EBFA;\n",
              "      --hover-fill-color: #174EA6;\n",
              "      --disabled-fill-color: #AAA;\n",
              "      --disabled-bg-color: #DDD;\n",
              "  }\n",
              "\n",
              "  [theme=dark] .colab-df-quickchart {\n",
              "      --bg-color: #3B4455;\n",
              "      --fill-color: #D2E3FC;\n",
              "      --hover-bg-color: #434B5C;\n",
              "      --hover-fill-color: #FFFFFF;\n",
              "      --disabled-bg-color: #3B4455;\n",
              "      --disabled-fill-color: #666;\n",
              "  }\n",
              "\n",
              "  .colab-df-quickchart {\n",
              "    background-color: var(--bg-color);\n",
              "    border: none;\n",
              "    border-radius: 50%;\n",
              "    cursor: pointer;\n",
              "    display: none;\n",
              "    fill: var(--fill-color);\n",
              "    height: 32px;\n",
              "    padding: 0;\n",
              "    width: 32px;\n",
              "  }\n",
              "\n",
              "  .colab-df-quickchart:hover {\n",
              "    background-color: var(--hover-bg-color);\n",
              "    box-shadow: 0 1px 2px rgba(60, 64, 67, 0.3), 0 1px 3px 1px rgba(60, 64, 67, 0.15);\n",
              "    fill: var(--button-hover-fill-color);\n",
              "  }\n",
              "\n",
              "  .colab-df-quickchart-complete:disabled,\n",
              "  .colab-df-quickchart-complete:disabled:hover {\n",
              "    background-color: var(--disabled-bg-color);\n",
              "    fill: var(--disabled-fill-color);\n",
              "    box-shadow: none;\n",
              "  }\n",
              "\n",
              "  .colab-df-spinner {\n",
              "    border: 2px solid var(--fill-color);\n",
              "    border-color: transparent;\n",
              "    border-bottom-color: var(--fill-color);\n",
              "    animation:\n",
              "      spin 1s steps(1) infinite;\n",
              "  }\n",
              "\n",
              "  @keyframes spin {\n",
              "    0% {\n",
              "      border-color: transparent;\n",
              "      border-bottom-color: var(--fill-color);\n",
              "      border-left-color: var(--fill-color);\n",
              "    }\n",
              "    20% {\n",
              "      border-color: transparent;\n",
              "      border-left-color: var(--fill-color);\n",
              "      border-top-color: var(--fill-color);\n",
              "    }\n",
              "    30% {\n",
              "      border-color: transparent;\n",
              "      border-left-color: var(--fill-color);\n",
              "      border-top-color: var(--fill-color);\n",
              "      border-right-color: var(--fill-color);\n",
              "    }\n",
              "    40% {\n",
              "      border-color: transparent;\n",
              "      border-right-color: var(--fill-color);\n",
              "      border-top-color: var(--fill-color);\n",
              "    }\n",
              "    60% {\n",
              "      border-color: transparent;\n",
              "      border-right-color: var(--fill-color);\n",
              "    }\n",
              "    80% {\n",
              "      border-color: transparent;\n",
              "      border-right-color: var(--fill-color);\n",
              "      border-bottom-color: var(--fill-color);\n",
              "    }\n",
              "    90% {\n",
              "      border-color: transparent;\n",
              "      border-bottom-color: var(--fill-color);\n",
              "    }\n",
              "  }\n",
              "</style>\n",
              "\n",
              "  <script>\n",
              "    async function quickchart(key) {\n",
              "      const quickchartButtonEl =\n",
              "        document.querySelector('#' + key + ' button');\n",
              "      quickchartButtonEl.disabled = true;  // To prevent multiple clicks.\n",
              "      quickchartButtonEl.classList.add('colab-df-spinner');\n",
              "      try {\n",
              "        const charts = await google.colab.kernel.invokeFunction(\n",
              "            'suggestCharts', [key], {});\n",
              "      } catch (error) {\n",
              "        console.error('Error during call to suggestCharts:', error);\n",
              "      }\n",
              "      quickchartButtonEl.classList.remove('colab-df-spinner');\n",
              "      quickchartButtonEl.classList.add('colab-df-quickchart-complete');\n",
              "    }\n",
              "    (() => {\n",
              "      let quickchartButtonEl =\n",
              "        document.querySelector('#df-e9694db0-5269-492e-af4b-63d1250b09b6 button');\n",
              "      quickchartButtonEl.style.display =\n",
              "        google.colab.kernel.accessAllowed ? 'block' : 'none';\n",
              "    })();\n",
              "  </script>\n",
              "</div>\n",
              "\n",
              "    </div>\n",
              "  </div>\n"
            ],
            "application/vnd.google.colaboratory.intrinsic+json": {
              "type": "dataframe",
              "variable_name": "df",
              "summary": "{\n  \"name\": \"df\",\n  \"rows\": 91,\n  \"fields\": [\n    {\n      \"column\": \"Txn Date\",\n      \"properties\": {\n        \"dtype\": \"category\",\n        \"num_unique_values\": 21,\n        \"samples\": [\n          \"01-Jul-24\",\n          \"20-Jul-24\",\n          \"18-Jul-24\"\n        ],\n        \"semantic_type\": \"\",\n        \"description\": \"\"\n      }\n    },\n    {\n      \"column\": \"Value Date\",\n      \"properties\": {\n        \"dtype\": \"object\",\n        \"num_unique_values\": 20,\n        \"samples\": [\n          \"01-Jul-24\",\n          \"20-Jul-24\",\n          \"18-Jul-24\"\n        ],\n        \"semantic_type\": \"\",\n        \"description\": \"\"\n      }\n    },\n    {\n      \"column\": \"Description\",\n      \"properties\": {\n        \"dtype\": \"string\",\n        \"num_unique_values\": 89,\n        \"samples\": [\n          \"   TO TRANSFER-UPI/DR/419430310876/Y SHABAN/SBIN/8296281999/Sent--\",\n          \"   TO TRANSFER-UPI/DR/419644029400/SWIGGY/ICIC/upiswiggy@/NA--\",\n          \"   TO TRANSFER-UPI/DR/455737205746/KANDULA /YESB/q686928084/NA--\"\n        ],\n        \"semantic_type\": \"\",\n        \"description\": \"\"\n      }\n    },\n    {\n      \"column\": \"Ref No./Cheque No.\",\n      \"properties\": {\n        \"dtype\": \"category\",\n        \"num_unique_values\": 15,\n        \"samples\": [\n          \"TRANSFER FROM 4897735162098\",\n          \"TRANSFER FROM 4897737162096\",\n          \"TRANSFER TO 4897690162095\"\n        ],\n        \"semantic_type\": \"\",\n        \"description\": \"\"\n      }\n    },\n    {\n      \"column\": \"        Debit\",\n      \"properties\": {\n        \"dtype\": \"category\",\n        \"num_unique_values\": 42,\n        \"samples\": [\n          \"97\",\n          \"72\",\n          \"2,000.00\"\n        ],\n        \"semantic_type\": \"\",\n        \"description\": \"\"\n      }\n    },\n    {\n      \"column\": \"Credit\",\n      \"properties\": {\n        \"dtype\": \"category\",\n        \"num_unique_values\": 17,\n        \"samples\": [\n          \" \",\n          \"36,210.00\",\n          \"1,000.00\"\n        ],\n        \"semantic_type\": \"\",\n        \"description\": \"\"\n      }\n    },\n    {\n      \"column\": \"Balance\",\n      \"properties\": {\n        \"dtype\": \"string\",\n        \"num_unique_values\": 84,\n        \"samples\": [\n          \"45,630.72\",\n          \"12,378.72\",\n          \"45,089.72\"\n        ],\n        \"semantic_type\": \"\",\n        \"description\": \"\"\n      }\n    }\n  ]\n}"
            }
          },
          "metadata": {},
          "execution_count": 2
        }
      ],
      "source": [
        "import pandas as pd\n",
        "\n",
        "# Load the CSV file\n",
        "file_path = '/content/drive/MyDrive/FML/FUNDS.csv'\n",
        "df = pd.read_csv(file_path)\n",
        "\n",
        "# Display the first few rows of the dataframe\n",
        "df.head()\n"
      ]
    },
    {
      "cell_type": "code",
      "source": [
        "import pandas as pd\n",
        "\n",
        "# Load the CSV file\n",
        "file_path = '/content/drive/MyDrive/FML/FUNDS.csv'\n",
        "df = pd.read_csv(file_path)\n",
        "\n",
        "# Inspect the column names\n",
        "print(df.columns)\n",
        "\n",
        "# Strip any extra whitespace from column names\n",
        "df.columns = df.columns.str.strip()\n",
        "\n",
        "# Inspect the cleaned column names\n",
        "print(df.columns)\n",
        "\n",
        "# Drop rows where 'Txn Date' or 'Value Date' is NaN or contain non-date values\n",
        "df = df.dropna(subset=['Txn Date', 'Value Date'])\n",
        "df = df[df['Txn Date'].str.match(r'^\\d{2}-\\w{3}-\\d{2}$')]\n",
        "df = df[df['Value Date'].str.match(r'^\\d{2}-\\w{3}-\\d{2}$')]\n",
        "\n",
        "# Convert date columns to datetime format\n",
        "df['Txn Date'] = pd.to_datetime(df['Txn Date'], format='%d-%b-%y')\n",
        "df['Value Date'] = pd.to_datetime(df['Value Date'], format='%d-%b-%y')\n",
        "\n",
        "# Remove commas from 'Debit', 'Credit', and 'Balance' columns and convert to numeric\n",
        "df['Debit'] = pd.to_numeric(df['Debit'].str.replace(',', ''), errors='coerce')\n",
        "df['Credit'] = pd.to_numeric(df['Credit'].str.replace(',', ''), errors='coerce')\n",
        "df['Balance'] = pd.to_numeric(df['Balance'].str.replace(',', ''), errors='coerce')\n",
        "\n",
        "# Fill missing values if any\n",
        "df.fillna(0, inplace=True)\n",
        "\n",
        "# Display the first few rows of the preprocessed dataframe\n",
        "print(df.head())\n",
        "\n",
        "\n"
      ],
      "metadata": {
        "colab": {
          "base_uri": "https://localhost:8080/"
        },
        "id": "8-eutEyyu_lV",
        "outputId": "4f6b13e7-368b-478d-cbfa-680fecadd8a6"
      },
      "execution_count": 9,
      "outputs": [
        {
          "output_type": "stream",
          "name": "stdout",
          "text": [
            "Index(['Txn Date', 'Value Date', 'Description', 'Ref No./Cheque No.',\n",
            "       '        Debit', 'Credit', 'Balance'],\n",
            "      dtype='object')\n",
            "Index(['Txn Date', 'Value Date', 'Description', 'Ref No./Cheque No.', 'Debit',\n",
            "       'Credit', 'Balance'],\n",
            "      dtype='object')\n",
            "    Txn Date Value Date                                        Description  \\\n",
            "0 2024-07-01 2024-07-01     TO TRANSFER-UPI/DR/454931218351/RAM LAL/YES...   \n",
            "1 2024-07-01 2024-07-01     TO TRANSFER-UPI/DR/454933511387/Mr  PATH/FD...   \n",
            "2 2024-07-01 2024-07-01     TO TRANSFER-UPI/DR/454933553209/Mr  PATH/FD...   \n",
            "3 2024-07-01 2024-07-01     TO TRANSFER-UPI/DR/454944574748/EJJIROTH/YE...   \n",
            "4 2024-07-01 2024-07-01     TO TRANSFER-UPI/DR/454945418253/DAYARAM S/Y...   \n",
            "\n",
            "          Ref No./Cheque No.  Debit  Credit   Balance  \n",
            "0  TRANSFER TO 4897690162095   20.0     0.0  12378.72  \n",
            "1  TRANSFER TO 4897690162095  100.0     0.0  12278.72  \n",
            "2  TRANSFER TO 4897690162095   20.0     0.0  12258.72  \n",
            "3  TRANSFER TO 4897690162095   30.0     0.0  12228.72  \n",
            "4  TRANSFER TO 4897690162095  120.0     0.0  12108.72  \n"
          ]
        }
      ]
    },
    {
      "cell_type": "code",
      "source": [
        "# Feature Engineering\n",
        "df['Day'] = df['Txn Date'].dt.day\n",
        "df['Month'] = df['Txn Date'].dt.month\n",
        "df['Year'] = df['Txn Date'].dt.year\n",
        "df['DayOfWeek'] = df['Txn Date'].dt.dayofweek\n",
        "\n",
        "# Determine if the transaction is a debit or credit\n",
        "df['Amount'] = df['Debit'] - df['Credit']\n",
        "df['TransactionType'] = df['Amount'].apply(lambda x: 'Debit' if x < 0 else 'Credit')\n",
        "\n",
        "# Encode the TransactionType as binary\n",
        "df['TransactionType'] = df['TransactionType'].map({'Debit': 1, 'Credit': 0})\n",
        "\n",
        "# Display the first few rows of the feature-engineered dataframe\n",
        "print(df.head())\n"
      ],
      "metadata": {
        "colab": {
          "base_uri": "https://localhost:8080/"
        },
        "id": "4rVsXN68xH5Z",
        "outputId": "3d1fd7eb-59f4-40cb-fe68-49a7d39b58eb"
      },
      "execution_count": 10,
      "outputs": [
        {
          "output_type": "stream",
          "name": "stdout",
          "text": [
            "    Txn Date Value Date                                        Description  \\\n",
            "0 2024-07-01 2024-07-01     TO TRANSFER-UPI/DR/454931218351/RAM LAL/YES...   \n",
            "1 2024-07-01 2024-07-01     TO TRANSFER-UPI/DR/454933511387/Mr  PATH/FD...   \n",
            "2 2024-07-01 2024-07-01     TO TRANSFER-UPI/DR/454933553209/Mr  PATH/FD...   \n",
            "3 2024-07-01 2024-07-01     TO TRANSFER-UPI/DR/454944574748/EJJIROTH/YE...   \n",
            "4 2024-07-01 2024-07-01     TO TRANSFER-UPI/DR/454945418253/DAYARAM S/Y...   \n",
            "\n",
            "          Ref No./Cheque No.  Debit  Credit   Balance  Day  Month  Year  \\\n",
            "0  TRANSFER TO 4897690162095   20.0     0.0  12378.72    1      7  2024   \n",
            "1  TRANSFER TO 4897690162095  100.0     0.0  12278.72    1      7  2024   \n",
            "2  TRANSFER TO 4897690162095   20.0     0.0  12258.72    1      7  2024   \n",
            "3  TRANSFER TO 4897690162095   30.0     0.0  12228.72    1      7  2024   \n",
            "4  TRANSFER TO 4897690162095  120.0     0.0  12108.72    1      7  2024   \n",
            "\n",
            "   DayOfWeek  Amount  TransactionType  \n",
            "0          0    20.0                0  \n",
            "1          0   100.0                0  \n",
            "2          0    20.0                0  \n",
            "3          0    30.0                0  \n",
            "4          0   120.0                0  \n"
          ]
        }
      ]
    },
    {
      "cell_type": "code",
      "source": [
        "from sklearn.model_selection import train_test_split\n",
        "\n",
        "# Define features and target\n",
        "features = ['Day', 'Month', 'Year', 'DayOfWeek', 'Amount']\n",
        "target = 'TransactionType'\n",
        "\n",
        "# Split the data\n",
        "X_train, X_test, y_train, y_test = train_test_split(df[features], df[target], test_size=0.2, random_state=42)\n",
        "\n",
        "# Display the shapes of the training and testing sets\n",
        "print(X_train.shape, X_test.shape, y_train.shape, y_test.shape)\n"
      ],
      "metadata": {
        "colab": {
          "base_uri": "https://localhost:8080/"
        },
        "id": "cv6XiqwGxRFk",
        "outputId": "5964c257-d87b-4e57-92ce-3a5f160c7b85"
      },
      "execution_count": 11,
      "outputs": [
        {
          "output_type": "stream",
          "name": "stdout",
          "text": [
            "(71, 5) (18, 5) (71,) (18,)\n"
          ]
        }
      ]
    },
    {
      "cell_type": "code",
      "source": [
        "from sklearn.ensemble import RandomForestClassifier\n",
        "from sklearn.metrics import classification_report\n",
        "\n",
        "# Initialize the model\n",
        "model = RandomForestClassifier(n_estimators=100, random_state=42)\n",
        "\n",
        "# Train the model\n",
        "model.fit(X_train, y_train)\n",
        "\n",
        "# Make predictions\n",
        "y_pred = model.predict(X_test)\n",
        "\n",
        "# Evaluate the model\n",
        "print(classification_report(y_test, y_pred))\n"
      ],
      "metadata": {
        "colab": {
          "base_uri": "https://localhost:8080/"
        },
        "id": "JOi3A2euxQrX",
        "outputId": "436f3814-81d4-488a-c75c-ed6a7d720f2f"
      },
      "execution_count": 12,
      "outputs": [
        {
          "output_type": "stream",
          "name": "stdout",
          "text": [
            "              precision    recall  f1-score   support\n",
            "\n",
            "           0       1.00      1.00      1.00        15\n",
            "           1       1.00      1.00      1.00         3\n",
            "\n",
            "    accuracy                           1.00        18\n",
            "   macro avg       1.00      1.00      1.00        18\n",
            "weighted avg       1.00      1.00      1.00        18\n",
            "\n"
          ]
        }
      ]
    },
    {
      "cell_type": "code",
      "source": [
        "from sklearn.metrics import confusion_matrix, accuracy_score\n",
        "\n",
        "# Calculate the confusion matrix\n",
        "conf_matrix = confusion_matrix(y_test, y_pred)\n",
        "\n",
        "# Calculate the accuracy score\n",
        "accuracy = accuracy_score(y_test, y_pred)\n",
        "\n",
        "print(f'Confusion Matrix:\\n{conf_matrix}')\n",
        "print(f'Accuracy Score: {accuracy}')\n"
      ],
      "metadata": {
        "colab": {
          "base_uri": "https://localhost:8080/"
        },
        "id": "uktFDVUlxhxk",
        "outputId": "229efdca-6ddd-402c-ce01-797a9bd5fd06"
      },
      "execution_count": 13,
      "outputs": [
        {
          "output_type": "stream",
          "name": "stdout",
          "text": [
            "Confusion Matrix:\n",
            "[[15  0]\n",
            " [ 0  3]]\n",
            "Accuracy Score: 1.0\n"
          ]
        }
      ]
    },
    {
      "cell_type": "code",
      "source": [
        "import matplotlib.pyplot as plt\n",
        "\n",
        "# Count the occurrences of each transaction type\n",
        "transaction_type_counts = df['TransactionType'].value_counts()\n",
        "\n",
        "# Map transaction types back to their labels\n",
        "transaction_type_counts.index = ['Credit' if x == 0 else 'Debit' for x in transaction_type_counts.index]\n",
        "\n",
        "# Plot the pie chart\n",
        "plt.figure(figsize=(8, 8))\n",
        "plt.pie(transaction_type_counts, labels=transaction_type_counts.index, autopct='%1.1f%%', startangle=140, colors=['#66b3ff','#ff9999'])\n",
        "plt.title('Distribution of Transaction Types')\n",
        "plt.show()\n"
      ],
      "metadata": {
        "colab": {
          "base_uri": "https://localhost:8080/",
          "height": 675
        },
        "id": "5ek2YygFxwp1",
        "outputId": "7a912bb9-7aa3-432a-8631-494e0c9bbc83"
      },
      "execution_count": 14,
      "outputs": [
        {
          "output_type": "display_data",
          "data": {
            "text/plain": [
              "<Figure size 800x800 with 1 Axes>"
            ],
            "image/png": "[encoded data removed]"
          },
          "metadata": {}
        }
      ]
    },
    {
      "cell_type": "code",
      "source": [
        "import pandas as pd\n",
        "import matplotlib.pyplot as plt\n",
        "\n",
        "# Assuming the DataFrame `df` has already been preprocessed as described earlier\n",
        "\n",
        "# Count the occurrences of each transaction type\n",
        "transaction_type_counts = df['TransactionType'].value_counts()\n",
        "\n",
        "# Map transaction types back to their labels\n",
        "transaction_type_counts.index = ['Credit' if x == 0 else 'Debit' for x in transaction_type_counts.index]\n",
        "\n",
        "# Plot the bar graph\n",
        "plt.figure(figsize=(8, 6))\n",
        "transaction_type_counts.plot(kind='bar', color=['#66b3ff', '#ff9999'])\n",
        "plt.xlabel('Transaction Type')\n",
        "plt.ylabel('Count')\n",
        "plt.title('Distribution of Transaction Types')\n",
        "plt.xticks(rotation=0)\n",
        "plt.show()\n"
      ],
      "metadata": {
        "colab": {
          "base_uri": "https://localhost:8080/",
          "height": 564
        },
        "id": "CyNTfvjbx_3I",
        "outputId": "878d030f-ce15-4a97-dd05-1511c6e60583"
      },
      "execution_count": 16,
      "outputs": [
        {
          "output_type": "display_data",
          "data": {
            "text/plain": [
              "<Figure size 800x600 with 1 Axes>"
            ],
            "image/png": "[encoded data removed]"
          },
          "metadata": {}
        }
      ]
    },
    {
      "cell_type": "code",
      "source": [
        "from sklearn.feature_extraction.text import TfidfVectorizer\n",
        "\n",
        "# Sample descriptions for illustration purposes\n",
        "sample_descriptions = [\n",
        "    \"Grocery Store Purchase\",\n",
        "    \"Electricity Bill Payment\",\n",
        "    \"Monthly Rent\",\n",
        "    \"Salary Credit\",\n",
        "    \"Online Shopping\"\n",
        "]\n",
        "\n",
        "# TF-IDF Vectorization\n",
        "tfidf_vectorizer = TfidfVectorizer()\n",
        "X = tfidf_vectorizer.fit_transform(sample_descriptions)\n",
        "\n",
        "# Display the TF-IDF matrix\n",
        "print(X.toarray())\n"
      ],
      "metadata": {
        "id": "_zEKZkIIzTdG"
      },
      "execution_count": null,
      "outputs": []
    },
    {
      "cell_type": "code",
      "source": [
        "# Create a 'Day' column to categorize transactions by day\n",
        "df['Day'] = df['Txn Date'].dt.date\n",
        "\n",
        "# Display the first few rows with the new 'Day' column\n",
        "print(df[['Txn Date', 'Day']].head(10))\n",
        "\n"
      ],
      "metadata": {
        "colab": {
          "base_uri": "https://localhost:8080/"
        },
        "id": "r5PBAYyv0F6O",
        "outputId": "e0c6bfa8-9070-4868-dfbc-e4da9b3b7f8d"
      },
      "execution_count": 19,
      "outputs": [
        {
          "output_type": "stream",
          "name": "stdout",
          "text": [
            "    Txn Date         Day\n",
            "0 2024-07-01  2024-07-01\n",
            "1 2024-07-01  2024-07-01\n",
            "2 2024-07-01  2024-07-01\n",
            "3 2024-07-01  2024-07-01\n",
            "4 2024-07-01  2024-07-01\n",
            "5 2024-07-01  2024-07-01\n",
            "6 2024-07-03  2024-07-03\n",
            "7 2024-07-03  2024-07-03\n",
            "8 2024-07-03  2024-07-03\n",
            "9 2024-07-03  2024-07-03\n"
          ]
        }
      ]
    },
    {
      "cell_type": "code",
      "source": [
        "# Define categories based on description patterns\n",
        "categories = {\n",
        "    'Grocery': ['grocery', 'supermarket'],\n",
        "    'Utilities': ['bill', 'electricity', 'water'],\n",
        "    'Rent': ['rent'],\n",
        "    'Salary': ['salary', 'credit'],\n",
        "    'Shopping': ['shopping', 'online']\n",
        "}\n",
        "\n",
        "# Function to categorize transactions\n",
        "def categorize_transaction(description):\n",
        "    for category, keywords in categories.items():\n",
        "        if any(keyword in description.lower() for keyword in keywords):\n",
        "            return category\n",
        "    return 'Other'\n",
        "\n",
        "# Apply the categorization function\n",
        "df['Category'] = df['Description'].apply(categorize_transaction)\n",
        "\n",
        "# Display the first few rows with categories\n",
        "print(df[['Description', 'Category']].head())\n"
      ],
      "metadata": {
        "colab": {
          "base_uri": "https://localhost:8080/"
        },
        "id": "naf3kpdX0u9G",
        "outputId": "a7d2e96f-a69e-44f1-ef8a-413c75ed2ff6"
      },
      "execution_count": 20,
      "outputs": [
        {
          "output_type": "stream",
          "name": "stdout",
          "text": [
            "                                         Description Category\n",
            "0     TO TRANSFER-UPI/DR/454931218351/RAM LAL/YES...    Other\n",
            "1     TO TRANSFER-UPI/DR/454933511387/Mr  PATH/FD...    Other\n",
            "2     TO TRANSFER-UPI/DR/454933553209/Mr  PATH/FD...    Other\n",
            "3     TO TRANSFER-UPI/DR/454944574748/EJJIROTH/YE...    Other\n",
            "4     TO TRANSFER-UPI/DR/454945418253/DAYARAM S/Y...    Other\n"
          ]
        }
      ]
    },
    {
      "cell_type": "code",
      "source": [
        "# Group by day and category, then count the number of transactions\n",
        "daily_category_counts = df.groupby(['Day', 'Category']).size().unstack(fill_value=0)\n",
        "\n",
        "# Display the first few rows of the daily category counts\n",
        "print(daily_category_counts.head(30))\n"
      ],
      "metadata": {
        "colab": {
          "base_uri": "https://localhost:8080/"
        },
        "id": "24LYAvlC02AJ",
        "outputId": "e7346361-f519-4264-d9e3-5101ba8a3c4d"
      },
      "execution_count": 28,
      "outputs": [
        {
          "output_type": "stream",
          "name": "stdout",
          "text": [
            "Category    Other\n",
            "Day              \n",
            "2024-07-01      6\n",
            "2024-07-03      5\n",
            "2024-07-04      9\n",
            "2024-07-05      1\n",
            "2024-07-07      4\n",
            "2024-07-08      3\n",
            "2024-07-09      5\n",
            "2024-07-10      2\n",
            "2024-07-11      8\n",
            "2024-07-12      2\n",
            "2024-07-13      7\n",
            "2024-07-14      8\n",
            "2024-07-15      8\n",
            "2024-07-16      4\n",
            "2024-07-17      8\n",
            "2024-07-18      1\n",
            "2024-07-19      3\n",
            "2024-07-20      1\n",
            "2024-07-22      3\n",
            "2024-07-24      1\n"
          ]
        }
      ]
    },
    {
      "cell_type": "code",
      "source": [
        "import matplotlib.pyplot as plt\n",
        "\n",
        "# Plot the bar graph for each day\n",
        "daily_category_counts.plot(kind='bar', stacked=True, figsize=(15, 10), colormap='viridis')\n",
        "plt.xlabel('Date')\n",
        "plt.ylabel('Number of Transactions')\n",
        "plt.title('Daily Distribution of Transaction Categories')\n",
        "plt.legend(title='Category')\n",
        "plt.xticks(rotation=45)\n",
        "plt.show()\n"
      ],
      "metadata": {
        "colab": {
          "base_uri": "https://localhost:8080/",
          "height": 925
        },
        "id": "bZiE7GuB07sq",
        "outputId": "1497217e-85ef-4b2c-e926-a92a51391e10"
      },
      "execution_count": 22,
      "outputs": [
        {
          "output_type": "display_data",
          "data": {
            "text/plain": [
              "<Figure size 1500x1000 with 1 Axes>"
            ],
            "image/png": "[encoded data removed]"
          },
          "metadata": {}
        }
      ]
    }
  ]
}